{
 "cells": [
  {
   "cell_type": "code",
   "execution_count": 1,
   "id": "46db229d4c472926",
   "metadata": {
    "ExecuteTime": {
     "end_time": "2025-04-01T21:57:53.016124Z",
     "start_time": "2025-04-01T21:57:53.014329Z"
    },
    "execution": {
     "iopub.execute_input": "2025-04-02T21:56:34.862699Z",
     "iopub.status.busy": "2025-04-02T21:56:34.862358Z",
     "iopub.status.idle": "2025-04-02T21:56:35.948590Z",
     "shell.execute_reply": "2025-04-02T21:56:35.947519Z",
     "shell.execute_reply.started": "2025-04-02T21:56:34.862671Z"
    },
    "trusted": true
   },
   "outputs": [],
   "source": [
    "import xarray as xr\n",
    "import matplotlib.pyplot as plt"
   ]
  },
  {
   "cell_type": "code",
   "execution_count": 2,
   "id": "19fdbe27",
   "metadata": {},
   "outputs": [
    {
     "name": "stderr",
     "output_type": "stream",
     "text": [
      "/home/giuseppe/pmts/pmts_env/lib/python3.12/site-packages/tqdm/auto.py:21: TqdmWarning: IProgress not found. Please update jupyter and ipywidgets. See https://ipywidgets.readthedocs.io/en/stable/user_install.html\n",
      "  from .autonotebook import tqdm as notebook_tqdm\n"
     ]
    },
    {
     "name": "stdout",
     "output_type": "stream",
     "text": [
      "{'scipy': <ScipyBackendEntrypoint>\n",
      "  Open netCDF files (.nc, .nc4, .cdf and .gz) using scipy in Xarray\n",
      "  Learn more at https://docs.xarray.dev/en/stable/generated/xarray.backends.ScipyBackendEntrypoint.html, 'pyrregular': <IrregularEntrypoint>, 'store': <StoreBackendEntrypoint>\n",
      "  Open AbstractDataStore instances in Xarray\n",
      "  Learn more at https://docs.xarray.dev/en/stable/generated/xarray.backends.StoreBackendEntrypoint.html}\n"
     ]
    }
   ],
   "source": [
    "import xarray as xr\n",
    "print(xr.backends.plugins.list_engines())"
   ]
  },
  {
   "cell_type": "code",
   "execution_count": 3,
   "id": "94b8530a",
   "metadata": {},
   "outputs": [],
   "source": [
    "# setup.py or pyproject.toml (by maintainers of pyrregular)\n",
    "entry_points={\n",
    "    'xarray.backends': ['pyrregular = pyrregular.backend:PyrregularBackendEntrypoint'],\n",
    "}\n"
   ]
  },
  {
   "cell_type": "markdown",
   "id": "1207ea0ffeae29ec",
   "metadata": {},
   "source": [
    "## Loading the dataset"
   ]
  },
  {
   "cell_type": "code",
   "execution_count": 4,
   "id": "52de749d",
   "metadata": {},
   "outputs": [
    {
     "data": {
      "text/html": [
       "<div><svg style=\"position: absolute; width: 0; height: 0; overflow: hidden\">\n",
       "<defs>\n",
       "<symbol id=\"icon-database\" viewBox=\"0 0 32 32\">\n",
       "<path d=\"M16 0c-8.837 0-16 2.239-16 5v4c0 2.761 7.163 5 16 5s16-2.239 16-5v-4c0-2.761-7.163-5-16-5z\"></path>\n",
       "<path d=\"M16 17c-8.837 0-16-2.239-16-5v6c0 2.761 7.163 5 16 5s16-2.239 16-5v-6c0 2.761-7.163 5-16 5z\"></path>\n",
       "<path d=\"M16 26c-8.837 0-16-2.239-16-5v6c0 2.761 7.163 5 16 5s16-2.239 16-5v-6c0 2.761-7.163 5-16 5z\"></path>\n",
       "</symbol>\n",
       "<symbol id=\"icon-file-text2\" viewBox=\"0 0 32 32\">\n",
       "<path d=\"M28.681 7.159c-0.694-0.947-1.662-2.053-2.724-3.116s-2.169-2.030-3.116-2.724c-1.612-1.182-2.393-1.319-2.841-1.319h-15.5c-1.378 0-2.5 1.121-2.5 2.5v27c0 1.378 1.122 2.5 2.5 2.5h23c1.378 0 2.5-1.122 2.5-2.5v-19.5c0-0.448-0.137-1.23-1.319-2.841zM24.543 5.457c0.959 0.959 1.712 1.825 2.268 2.543h-4.811v-4.811c0.718 0.556 1.584 1.309 2.543 2.268zM28 29.5c0 0.271-0.229 0.5-0.5 0.5h-23c-0.271 0-0.5-0.229-0.5-0.5v-27c0-0.271 0.229-0.5 0.5-0.5 0 0 15.499-0 15.5 0v7c0 0.552 0.448 1 1 1h7v19.5z\"></path>\n",
       "<path d=\"M23 26h-14c-0.552 0-1-0.448-1-1s0.448-1 1-1h14c0.552 0 1 0.448 1 1s-0.448 1-1 1z\"></path>\n",
       "<path d=\"M23 22h-14c-0.552 0-1-0.448-1-1s0.448-1 1-1h14c0.552 0 1 0.448 1 1s-0.448 1-1 1z\"></path>\n",
       "<path d=\"M23 18h-14c-0.552 0-1-0.448-1-1s0.448-1 1-1h14c0.552 0 1 0.448 1 1s-0.448 1-1 1z\"></path>\n",
       "</symbol>\n",
       "</defs>\n",
       "</svg>\n",
       "<style>/* CSS stylesheet for displaying xarray objects in jupyterlab.\n",
       " *\n",
       " */\n",
       "\n",
       ":root {\n",
       "  --xr-font-color0: var(--jp-content-font-color0, rgba(0, 0, 0, 1));\n",
       "  --xr-font-color2: var(--jp-content-font-color2, rgba(0, 0, 0, 0.54));\n",
       "  --xr-font-color3: var(--jp-content-font-color3, rgba(0, 0, 0, 0.38));\n",
       "  --xr-border-color: var(--jp-border-color2, #e0e0e0);\n",
       "  --xr-disabled-color: var(--jp-layout-color3, #bdbdbd);\n",
       "  --xr-background-color: var(--jp-layout-color0, white);\n",
       "  --xr-background-color-row-even: var(--jp-layout-color1, white);\n",
       "  --xr-background-color-row-odd: var(--jp-layout-color2, #eeeeee);\n",
       "}\n",
       "\n",
       "html[theme=\"dark\"],\n",
       "html[data-theme=\"dark\"],\n",
       "body[data-theme=\"dark\"],\n",
       "body.vscode-dark {\n",
       "  --xr-font-color0: rgba(255, 255, 255, 1);\n",
       "  --xr-font-color2: rgba(255, 255, 255, 0.54);\n",
       "  --xr-font-color3: rgba(255, 255, 255, 0.38);\n",
       "  --xr-border-color: #1f1f1f;\n",
       "  --xr-disabled-color: #515151;\n",
       "  --xr-background-color: #111111;\n",
       "  --xr-background-color-row-even: #111111;\n",
       "  --xr-background-color-row-odd: #313131;\n",
       "}\n",
       "\n",
       ".xr-wrap {\n",
       "  display: block !important;\n",
       "  min-width: 300px;\n",
       "  max-width: 700px;\n",
       "}\n",
       "\n",
       ".xr-text-repr-fallback {\n",
       "  /* fallback to plain text repr when CSS is not injected (untrusted notebook) */\n",
       "  display: none;\n",
       "}\n",
       "\n",
       ".xr-header {\n",
       "  padding-top: 6px;\n",
       "  padding-bottom: 6px;\n",
       "  margin-bottom: 4px;\n",
       "  border-bottom: solid 1px var(--xr-border-color);\n",
       "}\n",
       "\n",
       ".xr-header > div,\n",
       ".xr-header > ul {\n",
       "  display: inline;\n",
       "  margin-top: 0;\n",
       "  margin-bottom: 0;\n",
       "}\n",
       "\n",
       ".xr-obj-type,\n",
       ".xr-array-name {\n",
       "  margin-left: 2px;\n",
       "  margin-right: 10px;\n",
       "}\n",
       "\n",
       ".xr-obj-type {\n",
       "  color: var(--xr-font-color2);\n",
       "}\n",
       "\n",
       ".xr-sections {\n",
       "  padding-left: 0 !important;\n",
       "  display: grid;\n",
       "  grid-template-columns: 150px auto auto 1fr 0 20px 0 20px;\n",
       "}\n",
       "\n",
       ".xr-section-item {\n",
       "  display: contents;\n",
       "}\n",
       "\n",
       ".xr-section-item input {\n",
       "  display: inline-block;\n",
       "  opacity: 0;\n",
       "  height: 0;\n",
       "}\n",
       "\n",
       ".xr-section-item input + label {\n",
       "  color: var(--xr-disabled-color);\n",
       "}\n",
       "\n",
       ".xr-section-item input:enabled + label {\n",
       "  cursor: pointer;\n",
       "  color: var(--xr-font-color2);\n",
       "}\n",
       "\n",
       ".xr-section-item input:focus + label {\n",
       "  border: 2px solid var(--xr-font-color0);\n",
       "}\n",
       "\n",
       ".xr-section-item input:enabled + label:hover {\n",
       "  color: var(--xr-font-color0);\n",
       "}\n",
       "\n",
       ".xr-section-summary {\n",
       "  grid-column: 1;\n",
       "  color: var(--xr-font-color2);\n",
       "  font-weight: 500;\n",
       "}\n",
       "\n",
       ".xr-section-summary > span {\n",
       "  display: inline-block;\n",
       "  padding-left: 0.5em;\n",
       "}\n",
       "\n",
       ".xr-section-summary-in:disabled + label {\n",
       "  color: var(--xr-font-color2);\n",
       "}\n",
       "\n",
       ".xr-section-summary-in + label:before {\n",
       "  display: inline-block;\n",
       "  content: \"►\";\n",
       "  font-size: 11px;\n",
       "  width: 15px;\n",
       "  text-align: center;\n",
       "}\n",
       "\n",
       ".xr-section-summary-in:disabled + label:before {\n",
       "  color: var(--xr-disabled-color);\n",
       "}\n",
       "\n",
       ".xr-section-summary-in:checked + label:before {\n",
       "  content: \"▼\";\n",
       "}\n",
       "\n",
       ".xr-section-summary-in:checked + label > span {\n",
       "  display: none;\n",
       "}\n",
       "\n",
       ".xr-section-summary,\n",
       ".xr-section-inline-details {\n",
       "  padding-top: 4px;\n",
       "  padding-bottom: 4px;\n",
       "}\n",
       "\n",
       ".xr-section-inline-details {\n",
       "  grid-column: 2 / -1;\n",
       "}\n",
       "\n",
       ".xr-section-details {\n",
       "  display: none;\n",
       "  grid-column: 1 / -1;\n",
       "  margin-bottom: 5px;\n",
       "}\n",
       "\n",
       ".xr-section-summary-in:checked ~ .xr-section-details {\n",
       "  display: contents;\n",
       "}\n",
       "\n",
       ".xr-array-wrap {\n",
       "  grid-column: 1 / -1;\n",
       "  display: grid;\n",
       "  grid-template-columns: 20px auto;\n",
       "}\n",
       "\n",
       ".xr-array-wrap > label {\n",
       "  grid-column: 1;\n",
       "  vertical-align: top;\n",
       "}\n",
       "\n",
       ".xr-preview {\n",
       "  color: var(--xr-font-color3);\n",
       "}\n",
       "\n",
       ".xr-array-preview,\n",
       ".xr-array-data {\n",
       "  padding: 0 5px !important;\n",
       "  grid-column: 2;\n",
       "}\n",
       "\n",
       ".xr-array-data,\n",
       ".xr-array-in:checked ~ .xr-array-preview {\n",
       "  display: none;\n",
       "}\n",
       "\n",
       ".xr-array-in:checked ~ .xr-array-data,\n",
       ".xr-array-preview {\n",
       "  display: inline-block;\n",
       "}\n",
       "\n",
       ".xr-dim-list {\n",
       "  display: inline-block !important;\n",
       "  list-style: none;\n",
       "  padding: 0 !important;\n",
       "  margin: 0;\n",
       "}\n",
       "\n",
       ".xr-dim-list li {\n",
       "  display: inline-block;\n",
       "  padding: 0;\n",
       "  margin: 0;\n",
       "}\n",
       "\n",
       ".xr-dim-list:before {\n",
       "  content: \"(\";\n",
       "}\n",
       "\n",
       ".xr-dim-list:after {\n",
       "  content: \")\";\n",
       "}\n",
       "\n",
       ".xr-dim-list li:not(:last-child):after {\n",
       "  content: \",\";\n",
       "  padding-right: 5px;\n",
       "}\n",
       "\n",
       ".xr-has-index {\n",
       "  font-weight: bold;\n",
       "}\n",
       "\n",
       ".xr-var-list,\n",
       ".xr-var-item {\n",
       "  display: contents;\n",
       "}\n",
       "\n",
       ".xr-var-item > div,\n",
       ".xr-var-item label,\n",
       ".xr-var-item > .xr-var-name span {\n",
       "  background-color: var(--xr-background-color-row-even);\n",
       "  margin-bottom: 0;\n",
       "}\n",
       "\n",
       ".xr-var-item > .xr-var-name:hover span {\n",
       "  padding-right: 5px;\n",
       "}\n",
       "\n",
       ".xr-var-list > li:nth-child(odd) > div,\n",
       ".xr-var-list > li:nth-child(odd) > label,\n",
       ".xr-var-list > li:nth-child(odd) > .xr-var-name span {\n",
       "  background-color: var(--xr-background-color-row-odd);\n",
       "}\n",
       "\n",
       ".xr-var-name {\n",
       "  grid-column: 1;\n",
       "}\n",
       "\n",
       ".xr-var-dims {\n",
       "  grid-column: 2;\n",
       "}\n",
       "\n",
       ".xr-var-dtype {\n",
       "  grid-column: 3;\n",
       "  text-align: right;\n",
       "  color: var(--xr-font-color2);\n",
       "}\n",
       "\n",
       ".xr-var-preview {\n",
       "  grid-column: 4;\n",
       "}\n",
       "\n",
       ".xr-index-preview {\n",
       "  grid-column: 2 / 5;\n",
       "  color: var(--xr-font-color2);\n",
       "}\n",
       "\n",
       ".xr-var-name,\n",
       ".xr-var-dims,\n",
       ".xr-var-dtype,\n",
       ".xr-preview,\n",
       ".xr-attrs dt {\n",
       "  white-space: nowrap;\n",
       "  overflow: hidden;\n",
       "  text-overflow: ellipsis;\n",
       "  padding-right: 10px;\n",
       "}\n",
       "\n",
       ".xr-var-name:hover,\n",
       ".xr-var-dims:hover,\n",
       ".xr-var-dtype:hover,\n",
       ".xr-attrs dt:hover {\n",
       "  overflow: visible;\n",
       "  width: auto;\n",
       "  z-index: 1;\n",
       "}\n",
       "\n",
       ".xr-var-attrs,\n",
       ".xr-var-data,\n",
       ".xr-index-data {\n",
       "  display: none;\n",
       "  background-color: var(--xr-background-color) !important;\n",
       "  padding-bottom: 5px !important;\n",
       "}\n",
       "\n",
       ".xr-var-attrs-in:checked ~ .xr-var-attrs,\n",
       ".xr-var-data-in:checked ~ .xr-var-data,\n",
       ".xr-index-data-in:checked ~ .xr-index-data {\n",
       "  display: block;\n",
       "}\n",
       "\n",
       ".xr-var-data > table {\n",
       "  float: right;\n",
       "}\n",
       "\n",
       ".xr-var-name span,\n",
       ".xr-var-data,\n",
       ".xr-index-name div,\n",
       ".xr-index-data,\n",
       ".xr-attrs {\n",
       "  padding-left: 25px !important;\n",
       "}\n",
       "\n",
       ".xr-attrs,\n",
       ".xr-var-attrs,\n",
       ".xr-var-data,\n",
       ".xr-index-data {\n",
       "  grid-column: 1 / -1;\n",
       "}\n",
       "\n",
       "dl.xr-attrs {\n",
       "  padding: 0;\n",
       "  margin: 0;\n",
       "  display: grid;\n",
       "  grid-template-columns: 125px auto;\n",
       "}\n",
       "\n",
       ".xr-attrs dt,\n",
       ".xr-attrs dd {\n",
       "  padding: 0;\n",
       "  margin: 0;\n",
       "  float: left;\n",
       "  padding-right: 10px;\n",
       "  width: auto;\n",
       "}\n",
       "\n",
       ".xr-attrs dt {\n",
       "  font-weight: normal;\n",
       "  grid-column: 1;\n",
       "}\n",
       "\n",
       ".xr-attrs dt:hover span {\n",
       "  display: inline-block;\n",
       "  background: var(--xr-background-color);\n",
       "  padding-right: 10px;\n",
       "}\n",
       "\n",
       ".xr-attrs dd {\n",
       "  grid-column: 2;\n",
       "  white-space: pre-wrap;\n",
       "  word-break: break-all;\n",
       "}\n",
       "\n",
       ".xr-icon-database,\n",
       ".xr-icon-file-text2,\n",
       ".xr-no-icon {\n",
       "  display: inline-block;\n",
       "  vertical-align: middle;\n",
       "  width: 1em;\n",
       "  height: 1.5em !important;\n",
       "  stroke-width: 0;\n",
       "  stroke: currentColor;\n",
       "  fill: currentColor;\n",
       "}\n",
       "</style><pre class='xr-text-repr-fallback'>&lt;xarray.DataArray &#x27;data&#x27; (ts_id: 40334, signal_id: 34, time_id: 336)&gt; Size: 336MB\n",
       "&lt;COO: shape=(40334, 34, 336), dtype=float64, nnz=10486913, fill_value=nan&gt;\n",
       "Coordinates:\n",
       "    Age            (ts_id) float32 161kB 70.0 60.0 80.0 30.0 ... 40.0 50.0 40.0\n",
       "    Gender         (ts_id) int32 161kB 1 1 0 1 0 0 1 0 1 1 ... 0 0 1 1 1 0 0 1 1\n",
       "    class_default  (ts_id) float32 161kB nan 0.0 nan 0.0 0.0 ... 0.0 nan 0.0 0.0\n",
       "  * signal_id      (signal_id) &lt;U16 2kB &#x27;AST&#x27; &#x27;Alkalinephos&#x27; ... &#x27;WBC&#x27; &#x27;pH&#x27;\n",
       "    split_default  (ts_id) &lt;U5 807kB &#x27;test&#x27; &#x27;train&#x27; &#x27;test&#x27; ... &#x27;train&#x27; &#x27;train&#x27;\n",
       "  * time_id        (time_id) int32 1kB 1 2 3 4 5 6 7 ... 331 332 333 334 335 336\n",
       "  * ts_id          (ts_id) int32 161kB 0 1 2 3 4 ... 40330 40331 40332 40333\n",
       "Attributes:\n",
       "    _fixed_at:  2024-12-12T23:59:25.896770-12:00\n",
       "    _is_fixed:  True\n",
       "    author:     [&#x27;Matthew Reyna&#x27;, &#x27;Chris Josef&#x27;, &#x27;Russell Jeter&#x27;, &#x27;Supreeth S...\n",
       "    configs:    {&#x27;default&#x27;: {&#x27;task&#x27;: &#x27;classification&#x27;, &#x27;split&#x27;: &#x27;split_defaul...\n",
       "    license:    CC BY 4.0\n",
       "    source:     https://physionet.org/content/challenge-2019/1.0.0/\n",
       "    title:      PhysioNet 2019</pre><div class='xr-wrap' style='display:none'><div class='xr-header'><div class='xr-obj-type'>xarray.DataArray</div><div class='xr-array-name'>'data'</div><ul class='xr-dim-list'><li><span class='xr-has-index'>ts_id</span>: 40334</li><li><span class='xr-has-index'>signal_id</span>: 34</li><li><span class='xr-has-index'>time_id</span>: 336</li></ul></div><ul class='xr-sections'><li class='xr-section-item'><div class='xr-array-wrap'><input id='section-e5e0e164-0238-4bfc-a546-2ccbc5df2b45' class='xr-array-in' type='checkbox' checked><label for='section-e5e0e164-0238-4bfc-a546-2ccbc5df2b45' title='Show/hide data repr'><svg class='icon xr-icon-database'><use xlink:href='#icon-database'></use></svg></label><div class='xr-array-preview xr-preview'><span>&lt;COO: nnz=10486913, fill_value=nan&gt;</span></div><div class='xr-array-data'><table><tbody><tr><th style=\"text-align: left\">Format</th><td style=\"text-align: left\">coo</td></tr><tr><th style=\"text-align: left\">Data Type</th><td style=\"text-align: left\">float64</td></tr><tr><th style=\"text-align: left\">Shape</th><td style=\"text-align: left\">(40334, 34, 336)</td></tr><tr><th style=\"text-align: left\">nnz</th><td style=\"text-align: left\">10486913</td></tr><tr><th style=\"text-align: left\">Density</th><td style=\"text-align: left\">0.02275926206997898</td></tr><tr><th style=\"text-align: left\">Read-only</th><td style=\"text-align: left\">True</td></tr><tr><th style=\"text-align: left\">Size</th><td style=\"text-align: left\">320.0M</td></tr><tr><th style=\"text-align: left\">Storage ratio</th><td style=\"text-align: left\">0.09</td></tr></tbody></table></div></div></li><li class='xr-section-item'><input id='section-9075763e-f15b-43d3-b36c-3ecec795e1c0' class='xr-section-summary-in' type='checkbox'  checked><label for='section-9075763e-f15b-43d3-b36c-3ecec795e1c0' class='xr-section-summary' >Coordinates: <span>(7)</span></label><div class='xr-section-inline-details'></div><div class='xr-section-details'><ul class='xr-var-list'><li class='xr-var-item'><div class='xr-var-name'><span>Age</span></div><div class='xr-var-dims'>(ts_id)</div><div class='xr-var-dtype'>float32</div><div class='xr-var-preview xr-preview'>70.0 60.0 80.0 ... 40.0 50.0 40.0</div><input id='attrs-eeb4d92b-abf9-4433-b065-a8b0ea02725c' class='xr-var-attrs-in' type='checkbox' disabled><label for='attrs-eeb4d92b-abf9-4433-b065-a8b0ea02725c' title='Show/Hide attributes'><svg class='icon xr-icon-file-text2'><use xlink:href='#icon-file-text2'></use></svg></label><input id='data-48651c74-50f7-4cc8-9059-1d415516924a' class='xr-var-data-in' type='checkbox'><label for='data-48651c74-50f7-4cc8-9059-1d415516924a' title='Show/Hide data repr'><svg class='icon xr-icon-database'><use xlink:href='#icon-database'></use></svg></label><div class='xr-var-attrs'><dl class='xr-attrs'></dl></div><div class='xr-var-data'><pre>array([70., 60., 80., ..., 40., 50., 40.], dtype=float32)</pre></div></li><li class='xr-var-item'><div class='xr-var-name'><span>Gender</span></div><div class='xr-var-dims'>(ts_id)</div><div class='xr-var-dtype'>int32</div><div class='xr-var-preview xr-preview'>1 1 0 1 0 0 1 0 ... 0 1 1 1 0 0 1 1</div><input id='attrs-63185a2e-39d3-4f55-8106-479211a850c3' class='xr-var-attrs-in' type='checkbox' disabled><label for='attrs-63185a2e-39d3-4f55-8106-479211a850c3' title='Show/Hide attributes'><svg class='icon xr-icon-file-text2'><use xlink:href='#icon-file-text2'></use></svg></label><input id='data-2a43dfe1-5d98-4724-aee8-308fa6759ce5' class='xr-var-data-in' type='checkbox'><label for='data-2a43dfe1-5d98-4724-aee8-308fa6759ce5' title='Show/Hide data repr'><svg class='icon xr-icon-database'><use xlink:href='#icon-database'></use></svg></label><div class='xr-var-attrs'><dl class='xr-attrs'></dl></div><div class='xr-var-data'><pre>array([1, 1, 0, ..., 0, 1, 1], dtype=int32)</pre></div></li><li class='xr-var-item'><div class='xr-var-name'><span>class_default</span></div><div class='xr-var-dims'>(ts_id)</div><div class='xr-var-dtype'>float32</div><div class='xr-var-preview xr-preview'>nan 0.0 nan 0.0 ... 0.0 nan 0.0 0.0</div><input id='attrs-f06842ff-5bbb-4416-bce2-762d8e98eb94' class='xr-var-attrs-in' type='checkbox' disabled><label for='attrs-f06842ff-5bbb-4416-bce2-762d8e98eb94' title='Show/Hide attributes'><svg class='icon xr-icon-file-text2'><use xlink:href='#icon-file-text2'></use></svg></label><input id='data-1237c2da-0635-4c97-9eca-ae3efd79a6bd' class='xr-var-data-in' type='checkbox'><label for='data-1237c2da-0635-4c97-9eca-ae3efd79a6bd' title='Show/Hide data repr'><svg class='icon xr-icon-database'><use xlink:href='#icon-database'></use></svg></label><div class='xr-var-attrs'><dl class='xr-attrs'></dl></div><div class='xr-var-data'><pre>array([nan,  0., nan, ..., nan,  0.,  0.], dtype=float32)</pre></div></li><li class='xr-var-item'><div class='xr-var-name'><span class='xr-has-index'>signal_id</span></div><div class='xr-var-dims'>(signal_id)</div><div class='xr-var-dtype'>&lt;U16</div><div class='xr-var-preview xr-preview'>&#x27;AST&#x27; &#x27;Alkalinephos&#x27; ... &#x27;WBC&#x27; &#x27;pH&#x27;</div><input id='attrs-25de50d5-b03f-40b1-94bd-814cbe809ff5' class='xr-var-attrs-in' type='checkbox' disabled><label for='attrs-25de50d5-b03f-40b1-94bd-814cbe809ff5' title='Show/Hide attributes'><svg class='icon xr-icon-file-text2'><use xlink:href='#icon-file-text2'></use></svg></label><input id='data-b0245c27-0e08-4ecc-92db-d5ecd7dddfa1' class='xr-var-data-in' type='checkbox'><label for='data-b0245c27-0e08-4ecc-92db-d5ecd7dddfa1' title='Show/Hide data repr'><svg class='icon xr-icon-database'><use xlink:href='#icon-database'></use></svg></label><div class='xr-var-attrs'><dl class='xr-attrs'></dl></div><div class='xr-var-data'><pre>array([&#x27;AST&#x27;, &#x27;Alkalinephos&#x27;, &#x27;BUN&#x27;, &#x27;BaseExcess&#x27;, &#x27;Bilirubin_direct&#x27;,\n",
       "       &#x27;Bilirubin_total&#x27;, &#x27;Calcium&#x27;, &#x27;Chloride&#x27;, &#x27;Creatinine&#x27;, &#x27;DBP&#x27;, &#x27;EtCO2&#x27;,\n",
       "       &#x27;FiO2&#x27;, &#x27;Fibrinogen&#x27;, &#x27;Glucose&#x27;, &#x27;HCO3&#x27;, &#x27;HR&#x27;, &#x27;Hct&#x27;, &#x27;Hgb&#x27;, &#x27;Lactate&#x27;,\n",
       "       &#x27;MAP&#x27;, &#x27;Magnesium&#x27;, &#x27;O2Sat&#x27;, &#x27;PTT&#x27;, &#x27;PaCO2&#x27;, &#x27;Phosphate&#x27;, &#x27;Platelets&#x27;,\n",
       "       &#x27;Potassium&#x27;, &#x27;Resp&#x27;, &#x27;SBP&#x27;, &#x27;SaO2&#x27;, &#x27;Temp&#x27;, &#x27;TroponinI&#x27;, &#x27;WBC&#x27;, &#x27;pH&#x27;],\n",
       "      dtype=&#x27;&lt;U16&#x27;)</pre></div></li><li class='xr-var-item'><div class='xr-var-name'><span>split_default</span></div><div class='xr-var-dims'>(ts_id)</div><div class='xr-var-dtype'>&lt;U5</div><div class='xr-var-preview xr-preview'>&#x27;test&#x27; &#x27;train&#x27; ... &#x27;train&#x27; &#x27;train&#x27;</div><input id='attrs-36f77e94-46dc-4a73-9770-a2a769302e28' class='xr-var-attrs-in' type='checkbox' disabled><label for='attrs-36f77e94-46dc-4a73-9770-a2a769302e28' title='Show/Hide attributes'><svg class='icon xr-icon-file-text2'><use xlink:href='#icon-file-text2'></use></svg></label><input id='data-9f853314-3c5a-4ce3-8f00-f9eb7d3fa70b' class='xr-var-data-in' type='checkbox'><label for='data-9f853314-3c5a-4ce3-8f00-f9eb7d3fa70b' title='Show/Hide data repr'><svg class='icon xr-icon-database'><use xlink:href='#icon-database'></use></svg></label><div class='xr-var-attrs'><dl class='xr-attrs'></dl></div><div class='xr-var-data'><pre>array([&#x27;test&#x27;, &#x27;train&#x27;, &#x27;test&#x27;, ..., &#x27;test&#x27;, &#x27;train&#x27;, &#x27;train&#x27;],\n",
       "      dtype=&#x27;&lt;U5&#x27;)</pre></div></li><li class='xr-var-item'><div class='xr-var-name'><span class='xr-has-index'>time_id</span></div><div class='xr-var-dims'>(time_id)</div><div class='xr-var-dtype'>int32</div><div class='xr-var-preview xr-preview'>1 2 3 4 5 6 ... 332 333 334 335 336</div><input id='attrs-d3402265-27da-49f7-8733-28a9a4456ed4' class='xr-var-attrs-in' type='checkbox' disabled><label for='attrs-d3402265-27da-49f7-8733-28a9a4456ed4' title='Show/Hide attributes'><svg class='icon xr-icon-file-text2'><use xlink:href='#icon-file-text2'></use></svg></label><input id='data-3c740d63-87f3-444c-8de9-7d8d937b012e' class='xr-var-data-in' type='checkbox'><label for='data-3c740d63-87f3-444c-8de9-7d8d937b012e' title='Show/Hide data repr'><svg class='icon xr-icon-database'><use xlink:href='#icon-database'></use></svg></label><div class='xr-var-attrs'><dl class='xr-attrs'></dl></div><div class='xr-var-data'><pre>array([  1,   2,   3, ..., 334, 335, 336], dtype=int32)</pre></div></li><li class='xr-var-item'><div class='xr-var-name'><span class='xr-has-index'>ts_id</span></div><div class='xr-var-dims'>(ts_id)</div><div class='xr-var-dtype'>int32</div><div class='xr-var-preview xr-preview'>0 1 2 3 ... 40330 40331 40332 40333</div><input id='attrs-72b26318-09fd-492f-ad01-bcbf53c4eaf1' class='xr-var-attrs-in' type='checkbox' disabled><label for='attrs-72b26318-09fd-492f-ad01-bcbf53c4eaf1' title='Show/Hide attributes'><svg class='icon xr-icon-file-text2'><use xlink:href='#icon-file-text2'></use></svg></label><input id='data-024c01a0-83f3-45f6-bcee-531e46884e83' class='xr-var-data-in' type='checkbox'><label for='data-024c01a0-83f3-45f6-bcee-531e46884e83' title='Show/Hide data repr'><svg class='icon xr-icon-database'><use xlink:href='#icon-database'></use></svg></label><div class='xr-var-attrs'><dl class='xr-attrs'></dl></div><div class='xr-var-data'><pre>array([    0,     1,     2, ..., 40331, 40332, 40333], dtype=int32)</pre></div></li></ul></div></li><li class='xr-section-item'><input id='section-4873da41-f690-4150-b719-3be557503d12' class='xr-section-summary-in' type='checkbox'  ><label for='section-4873da41-f690-4150-b719-3be557503d12' class='xr-section-summary' >Indexes: <span>(3)</span></label><div class='xr-section-inline-details'></div><div class='xr-section-details'><ul class='xr-var-list'><li class='xr-var-item'><div class='xr-index-name'><div>signal_id</div></div><div class='xr-index-preview'>PandasIndex</div><input type='checkbox' disabled/><label></label><input id='index-2d1052aa-6a06-4a66-840a-6b39c3cc99de' class='xr-index-data-in' type='checkbox'/><label for='index-2d1052aa-6a06-4a66-840a-6b39c3cc99de' title='Show/Hide index repr'><svg class='icon xr-icon-database'><use xlink:href='#icon-database'></use></svg></label><div class='xr-index-data'><pre>PandasIndex(Index([&#x27;AST&#x27;, &#x27;Alkalinephos&#x27;, &#x27;BUN&#x27;, &#x27;BaseExcess&#x27;, &#x27;Bilirubin_direct&#x27;,\n",
       "       &#x27;Bilirubin_total&#x27;, &#x27;Calcium&#x27;, &#x27;Chloride&#x27;, &#x27;Creatinine&#x27;, &#x27;DBP&#x27;, &#x27;EtCO2&#x27;,\n",
       "       &#x27;FiO2&#x27;, &#x27;Fibrinogen&#x27;, &#x27;Glucose&#x27;, &#x27;HCO3&#x27;, &#x27;HR&#x27;, &#x27;Hct&#x27;, &#x27;Hgb&#x27;, &#x27;Lactate&#x27;,\n",
       "       &#x27;MAP&#x27;, &#x27;Magnesium&#x27;, &#x27;O2Sat&#x27;, &#x27;PTT&#x27;, &#x27;PaCO2&#x27;, &#x27;Phosphate&#x27;, &#x27;Platelets&#x27;,\n",
       "       &#x27;Potassium&#x27;, &#x27;Resp&#x27;, &#x27;SBP&#x27;, &#x27;SaO2&#x27;, &#x27;Temp&#x27;, &#x27;TroponinI&#x27;, &#x27;WBC&#x27;, &#x27;pH&#x27;],\n",
       "      dtype=&#x27;object&#x27;, name=&#x27;signal_id&#x27;))</pre></div></li><li class='xr-var-item'><div class='xr-index-name'><div>time_id</div></div><div class='xr-index-preview'>PandasIndex</div><input type='checkbox' disabled/><label></label><input id='index-7637cf9a-245b-4d3d-8edb-272597285122' class='xr-index-data-in' type='checkbox'/><label for='index-7637cf9a-245b-4d3d-8edb-272597285122' title='Show/Hide index repr'><svg class='icon xr-icon-database'><use xlink:href='#icon-database'></use></svg></label><div class='xr-index-data'><pre>PandasIndex(Index([  1,   2,   3,   4,   5,   6,   7,   8,   9,  10,\n",
       "       ...\n",
       "       327, 328, 329, 330, 331, 332, 333, 334, 335, 336],\n",
       "      dtype=&#x27;int32&#x27;, name=&#x27;time_id&#x27;, length=336))</pre></div></li><li class='xr-var-item'><div class='xr-index-name'><div>ts_id</div></div><div class='xr-index-preview'>PandasIndex</div><input type='checkbox' disabled/><label></label><input id='index-29604996-0988-497c-bef0-a0ca28bbfd77' class='xr-index-data-in' type='checkbox'/><label for='index-29604996-0988-497c-bef0-a0ca28bbfd77' title='Show/Hide index repr'><svg class='icon xr-icon-database'><use xlink:href='#icon-database'></use></svg></label><div class='xr-index-data'><pre>PandasIndex(Index([    0,     1,     2,     3,     4,     5,     6,     7,     8,     9,\n",
       "       ...\n",
       "       40324, 40325, 40326, 40327, 40328, 40329, 40330, 40331, 40332, 40333],\n",
       "      dtype=&#x27;int32&#x27;, name=&#x27;ts_id&#x27;, length=40334))</pre></div></li></ul></div></li><li class='xr-section-item'><input id='section-71e86f07-6be8-4509-a953-27c897c0287e' class='xr-section-summary-in' type='checkbox'  checked><label for='section-71e86f07-6be8-4509-a953-27c897c0287e' class='xr-section-summary' >Attributes: <span>(7)</span></label><div class='xr-section-inline-details'></div><div class='xr-section-details'><dl class='xr-attrs'><dt><span>_fixed_at :</span></dt><dd>2024-12-12T23:59:25.896770-12:00</dd><dt><span>_is_fixed :</span></dt><dd>True</dd><dt><span>author :</span></dt><dd>[&#x27;Matthew Reyna&#x27;, &#x27;Chris Josef&#x27;, &#x27;Russell Jeter&#x27;, &#x27;Supreeth Shashikumar&#x27;, &#x27;Benjamin Moody&#x27;, &#x27;M. Brandon Westover&#x27;, &#x27;Ashish Sharma&#x27;, &#x27;Shamim Nemati&#x27;, &#x27;Gari D. Clifford&#x27;]</dd><dt><span>configs :</span></dt><dd>{&#x27;default&#x27;: {&#x27;task&#x27;: &#x27;classification&#x27;, &#x27;split&#x27;: &#x27;split_default&#x27;, &#x27;target&#x27;: &#x27;class_default&#x27;}, &#x27;regression&#x27;: {&#x27;task&#x27;: &#x27;regression&#x27;, &#x27;split&#x27;: &#x27;split_default&#x27;, &#x27;target&#x27;: &#x27;Age&#x27;}}</dd><dt><span>license :</span></dt><dd>CC BY 4.0</dd><dt><span>source :</span></dt><dd>https://physionet.org/content/challenge-2019/1.0.0/</dd><dt><span>title :</span></dt><dd>PhysioNet 2019</dd></dl></div></li></ul></div></div>"
      ],
      "text/plain": [
       "<xarray.DataArray 'data' (ts_id: 40334, signal_id: 34, time_id: 336)> Size: 336MB\n",
       "<COO: shape=(40334, 34, 336), dtype=float64, nnz=10486913, fill_value=nan>\n",
       "Coordinates:\n",
       "    Age            (ts_id) float32 161kB 70.0 60.0 80.0 30.0 ... 40.0 50.0 40.0\n",
       "    Gender         (ts_id) int32 161kB 1 1 0 1 0 0 1 0 1 1 ... 0 0 1 1 1 0 0 1 1\n",
       "    class_default  (ts_id) float32 161kB nan 0.0 nan 0.0 0.0 ... 0.0 nan 0.0 0.0\n",
       "  * signal_id      (signal_id) <U16 2kB 'AST' 'Alkalinephos' ... 'WBC' 'pH'\n",
       "    split_default  (ts_id) <U5 807kB 'test' 'train' 'test' ... 'train' 'train'\n",
       "  * time_id        (time_id) int32 1kB 1 2 3 4 5 6 7 ... 331 332 333 334 335 336\n",
       "  * ts_id          (ts_id) int32 161kB 0 1 2 3 4 ... 40330 40331 40332 40333\n",
       "Attributes:\n",
       "    _fixed_at:  2024-12-12T23:59:25.896770-12:00\n",
       "    _is_fixed:  True\n",
       "    author:     ['Matthew Reyna', 'Chris Josef', 'Russell Jeter', 'Supreeth S...\n",
       "    configs:    {'default': {'task': 'classification', 'split': 'split_defaul...\n",
       "    license:    CC BY 4.0\n",
       "    source:     https://physionet.org/content/challenge-2019/1.0.0/\n",
       "    title:      PhysioNet 2019"
      ]
     },
     "execution_count": 4,
     "metadata": {},
     "output_type": "execute_result"
    }
   ],
   "source": [
    "df = xr.load_dataset(\"/home/giuseppe/pmts/notebooks/data/PMTSA_2025.h5\", engine=\"pyrregular\")[\"data\"]\n",
    "df\n"
   ]
  },
  {
   "cell_type": "code",
   "execution_count": 5,
   "id": "29d6bad61e924b83",
   "metadata": {
    "ExecuteTime": {
     "end_time": "2025-04-01T21:53:35.373502Z",
     "start_time": "2025-04-01T21:53:35.368603Z"
    },
    "execution": {
     "iopub.execute_input": "2025-04-02T21:56:40.853615Z",
     "iopub.status.busy": "2025-04-02T21:56:40.852771Z",
     "iopub.status.idle": "2025-04-02T21:56:40.859515Z",
     "shell.execute_reply": "2025-04-02T21:56:40.858292Z",
     "shell.execute_reply.started": "2025-04-02T21:56:40.853571Z"
    },
    "trusted": true
   },
   "outputs": [
    {
     "data": {
      "text/plain": [
       "(40334, 34, 336)"
      ]
     },
     "execution_count": 5,
     "metadata": {},
     "output_type": "execute_result"
    }
   ],
   "source": [
    "# the shape is (n_time_series, n_channels, n_timestamps)\n",
    "df.shape"
   ]
  },
  {
   "cell_type": "code",
   "execution_count": 6,
   "id": "80a574b5d17f1af0",
   "metadata": {
    "ExecuteTime": {
     "end_time": "2025-04-01T22:10:56.867050Z",
     "start_time": "2025-04-01T22:10:56.861486Z"
    },
    "execution": {
     "iopub.execute_input": "2025-04-02T21:56:40.860933Z",
     "iopub.status.busy": "2025-04-02T21:56:40.860559Z",
     "iopub.status.idle": "2025-04-02T21:56:40.892438Z",
     "shell.execute_reply": "2025-04-02T21:56:40.891396Z",
     "shell.execute_reply.started": "2025-04-02T21:56:40.860897Z"
    },
    "trusted": true
   },
   "outputs": [
    {
     "data": {
      "text/html": [
       "<table><tbody><tr><th style=\"text-align: left\">Format</th><td style=\"text-align: left\">coo</td></tr><tr><th style=\"text-align: left\">Data Type</th><td style=\"text-align: left\">float64</td></tr><tr><th style=\"text-align: left\">Shape</th><td style=\"text-align: left\">(40334, 34, 336)</td></tr><tr><th style=\"text-align: left\">nnz</th><td style=\"text-align: left\">10486913</td></tr><tr><th style=\"text-align: left\">Density</th><td style=\"text-align: left\">0.02275926206997898</td></tr><tr><th style=\"text-align: left\">Read-only</th><td style=\"text-align: left\">True</td></tr><tr><th style=\"text-align: left\">Size</th><td style=\"text-align: left\">320.0M</td></tr><tr><th style=\"text-align: left\">Storage ratio</th><td style=\"text-align: left\">0.09</td></tr></tbody></table>"
      ],
      "text/plain": [
       "<COO: shape=(40334, 34, 336), dtype=float64, nnz=10486913, fill_value=nan>"
      ]
     },
     "execution_count": 6,
     "metadata": {},
     "output_type": "execute_result"
    }
   ],
   "source": [
    "# the array is stored as a sparse array\n",
    "df.data"
   ]
  },
  {
   "cell_type": "markdown",
   "id": "3ab06bb960983aab",
   "metadata": {},
   "source": [
    "### Some plots"
   ]
  },
  {
   "cell_type": "code",
   "execution_count": 7,
   "id": "ba4e4b5fcff857a8",
   "metadata": {
    "ExecuteTime": {
     "end_time": "2025-04-01T21:55:33.482332Z",
     "start_time": "2025-04-01T21:55:33.334349Z"
    },
    "execution": {
     "iopub.execute_input": "2025-04-02T21:56:40.893873Z",
     "iopub.status.busy": "2025-04-02T21:56:40.893508Z",
     "iopub.status.idle": "2025-04-02T21:56:47.265956Z",
     "shell.execute_reply": "2025-04-02T21:56:47.264768Z",
     "shell.execute_reply.started": "2025-04-02T21:56:40.893834Z"
    },
    "trusted": true
   },
   "outputs": [
    {
     "data": {
      "text/plain": [
       "<matplotlib.collections.QuadMesh at 0x70c864e5fd70>"
      ]
     },
     "execution_count": 7,
     "metadata": {},
     "output_type": "execute_result"
    },
    {
     "data": {
      "image/png": "[encoded data removed]",
      "text/plain": [
       "<Figure size 640x480 with 2 Axes>"
      ]
     },
     "metadata": {},
     "output_type": "display_data"
    }
   ],
   "source": [
    "# plotting an entire multivariate time series\n",
    "df.irr[1].plot()"
   ]
  },
  {
   "cell_type": "code",
   "execution_count": 8,
   "id": "b08ace5b6257e125",
   "metadata": {
    "ExecuteTime": {
     "end_time": "2025-04-01T21:59:48.588099Z",
     "start_time": "2025-04-01T21:59:48.504484Z"
    },
    "execution": {
     "iopub.execute_input": "2025-04-02T21:56:47.268862Z",
     "iopub.status.busy": "2025-04-02T21:56:47.268540Z",
     "iopub.status.idle": "2025-04-02T21:56:47.581929Z",
     "shell.execute_reply": "2025-04-02T21:56:47.580945Z",
     "shell.execute_reply.started": "2025-04-02T21:56:47.268830Z"
    },
    "trusted": true
   },
   "outputs": [
    {
     "data": {
      "text/plain": [
       "<matplotlib.legend.Legend at 0x70c864e30da0>"
      ]
     },
     "execution_count": 8,
     "metadata": {},
     "output_type": "execute_result"
    },
    {
     "data": {
      "image/png": "[encoded data removed]",
      "text/plain": [
       "<Figure size 640x480 with 1 Axes>"
      ]
     },
     "metadata": {},
     "output_type": "display_data"
    }
   ],
   "source": [
    "# plotting some channels\n",
    "df.irr[1, 2].plot(label=df.coords[\"signal_id\"][2].item())\n",
    "df.irr[1, 3].plot(label=df.coords[\"signal_id\"][3].item())\n",
    "df.irr[1, 21].plot(label=df.coords[\"signal_id\"][21].item())\n",
    "plt.legend()"
   ]
  },
  {
   "cell_type": "markdown",
   "id": "f5e8e382d95b1bd",
   "metadata": {},
   "source": [
    "## Converting to dense"
   ]
  },
  {
   "cell_type": "code",
   "execution_count": 9,
   "id": "27123ef5b12c1806",
   "metadata": {
    "ExecuteTime": {
     "end_time": "2025-04-01T22:16:21.831551Z",
     "start_time": "2025-04-01T22:16:19.141732Z"
    },
    "execution": {
     "iopub.execute_input": "2025-04-02T21:56:47.583536Z",
     "iopub.status.busy": "2025-04-02T21:56:47.583217Z",
     "iopub.status.idle": "2025-04-02T21:57:02.875091Z",
     "shell.execute_reply": "2025-04-02T21:57:02.874045Z",
     "shell.execute_reply.started": "2025-04-02T21:56:47.583500Z"
    },
    "trusted": true
   },
   "outputs": [
    {
     "name": "stdout",
     "output_type": "stream",
     "text": [
      "CPU times: user 8.08 s, sys: 769 ms, total: 8.84 s\n",
      "Wall time: 8.13 s\n"
     ]
    }
   ],
   "source": [
    "%%time\n",
    "# time series data\n",
    "X, _ = df.irr.to_dense()"
   ]
  },
  {
   "cell_type": "code",
   "execution_count": 10,
   "id": "4dea0f23ccd1472d",
   "metadata": {
    "ExecuteTime": {
     "end_time": "2025-04-01T22:16:26.665856Z",
     "start_time": "2025-04-01T22:16:26.655083Z"
    },
    "execution": {
     "iopub.execute_input": "2025-04-02T21:57:02.876510Z",
     "iopub.status.busy": "2025-04-02T21:57:02.876196Z",
     "iopub.status.idle": "2025-04-02T21:57:02.929847Z",
     "shell.execute_reply": "2025-04-02T21:57:02.928579Z",
     "shell.execute_reply.started": "2025-04-02T21:57:02.876482Z"
    },
    "trusted": true
   },
   "outputs": [
    {
     "data": {
      "text/html": [
       "<div>\n",
       "<style scoped>\n",
       "    .dataframe tbody tr th:only-of-type {\n",
       "        vertical-align: middle;\n",
       "    }\n",
       "\n",
       "    .dataframe tbody tr th {\n",
       "        vertical-align: top;\n",
       "    }\n",
       "\n",
       "    .dataframe thead th {\n",
       "        text-align: right;\n",
       "    }\n",
       "</style>\n",
       "<table border=\"1\" class=\"dataframe\">\n",
       "  <thead>\n",
       "    <tr style=\"text-align: right;\">\n",
       "      <th></th>\n",
       "      <th>Age</th>\n",
       "      <th>Gender</th>\n",
       "      <th>class_default</th>\n",
       "      <th>split_default</th>\n",
       "    </tr>\n",
       "    <tr>\n",
       "      <th>ts_id</th>\n",
       "      <th></th>\n",
       "      <th></th>\n",
       "      <th></th>\n",
       "      <th></th>\n",
       "    </tr>\n",
       "  </thead>\n",
       "  <tbody>\n",
       "    <tr>\n",
       "      <th>0</th>\n",
       "      <td>70.0</td>\n",
       "      <td>1</td>\n",
       "      <td>NaN</td>\n",
       "      <td>test</td>\n",
       "    </tr>\n",
       "    <tr>\n",
       "      <th>1</th>\n",
       "      <td>60.0</td>\n",
       "      <td>1</td>\n",
       "      <td>0.0</td>\n",
       "      <td>train</td>\n",
       "    </tr>\n",
       "    <tr>\n",
       "      <th>2</th>\n",
       "      <td>80.0</td>\n",
       "      <td>0</td>\n",
       "      <td>NaN</td>\n",
       "      <td>test</td>\n",
       "    </tr>\n",
       "    <tr>\n",
       "      <th>3</th>\n",
       "      <td>30.0</td>\n",
       "      <td>1</td>\n",
       "      <td>0.0</td>\n",
       "      <td>train</td>\n",
       "    </tr>\n",
       "    <tr>\n",
       "      <th>4</th>\n",
       "      <td>70.0</td>\n",
       "      <td>0</td>\n",
       "      <td>0.0</td>\n",
       "      <td>train</td>\n",
       "    </tr>\n",
       "  </tbody>\n",
       "</table>\n",
       "</div>"
      ],
      "text/plain": [
       "        Age  Gender  class_default split_default\n",
       "ts_id                                           \n",
       "0      70.0       1            NaN          test\n",
       "1      60.0       1            0.0         train\n",
       "2      80.0       0            NaN          test\n",
       "3      30.0       1            0.0         train\n",
       "4      70.0       0            0.0         train"
      ]
     },
     "execution_count": 10,
     "metadata": {},
     "output_type": "execute_result"
    }
   ],
   "source": [
    "# static variables\n",
    "Z = df.coords.to_dataset()[[\"Age\", \"Gender\"]].to_pandas()\n",
    "Z.head()"
   ]
  },
  {
   "cell_type": "code",
   "execution_count": 11,
   "id": "a43081e226cd2d5f",
   "metadata": {
    "ExecuteTime": {
     "end_time": "2025-04-01T22:16:26.703896Z",
     "start_time": "2025-04-01T22:16:26.702118Z"
    },
    "execution": {
     "iopub.execute_input": "2025-04-02T21:57:02.931406Z",
     "iopub.status.busy": "2025-04-02T21:57:02.931011Z",
     "iopub.status.idle": "2025-04-02T21:57:03.192436Z",
     "shell.execute_reply": "2025-04-02T21:57:03.191196Z",
     "shell.execute_reply.started": "2025-04-02T21:57:02.931367Z"
    },
    "trusted": true
   },
   "outputs": [],
   "source": [
    "# target and split\n",
    "y, split = df.irr.get_task_target_and_split()"
   ]
  },
  {
   "cell_type": "markdown",
   "id": "241c7df51ad080be",
   "metadata": {},
   "source": [
    "### Train-test split"
   ]
  },
  {
   "cell_type": "code",
   "execution_count": 12,
   "id": "f595181ed24af7b5",
   "metadata": {
    "ExecuteTime": {
     "end_time": "2025-04-01T22:16:34.162327Z",
     "start_time": "2025-04-01T22:16:33.548420Z"
    },
    "execution": {
     "iopub.execute_input": "2025-04-02T21:57:03.194083Z",
     "iopub.status.busy": "2025-04-02T21:57:03.193622Z",
     "iopub.status.idle": "2025-04-02T21:57:04.712574Z",
     "shell.execute_reply": "2025-04-02T21:57:04.711274Z",
     "shell.execute_reply.started": "2025-04-02T21:57:03.194037Z"
    },
    "trusted": true
   },
   "outputs": [
    {
     "data": {
      "text/plain": [
       "((20336, 34, 334), (20336,), (19998, 34, 334), (19998,))"
      ]
     },
     "execution_count": 12,
     "metadata": {},
     "output_type": "execute_result"
    }
   ],
   "source": [
    "X_train, X_test = X[split != \"test\"], X[split == \"test\"]\n",
    "y_train, y_test = y[split != \"test\"], y[split == \"test\"]\n",
    "X_train.shape, y_train.shape, X_test.shape, y_test.shape"
   ]
  },
  {
   "cell_type": "code",
   "execution_count": 13,
   "id": "1e098d230e68a1d0",
   "metadata": {
    "ExecuteTime": {
     "end_time": "2025-04-01T22:18:40.284602Z",
     "start_time": "2025-04-01T22:18:40.280229Z"
    },
    "execution": {
     "iopub.execute_input": "2025-04-02T21:57:04.713700Z",
     "iopub.status.busy": "2025-04-02T21:57:04.713401Z",
     "iopub.status.idle": "2025-04-02T21:57:04.722747Z",
     "shell.execute_reply": "2025-04-02T21:57:04.721005Z",
     "shell.execute_reply.started": "2025-04-02T21:57:04.713672Z"
    },
    "trusted": true
   },
   "outputs": [],
   "source": [
    "test_id = df[\"ts_id\"][split == \"test\"].data"
   ]
  },
  {
   "cell_type": "markdown",
   "id": "563169ec",
   "metadata": {},
   "source": [
    "## Preprocessing"
   ]
  },
  {
   "cell_type": "code",
   "execution_count": 14,
   "id": "78f0dddb",
   "metadata": {},
   "outputs": [],
   "source": [
    "import numpy as np"
   ]
  },
  {
   "cell_type": "code",
   "execution_count": 15,
   "id": "bfad474f",
   "metadata": {},
   "outputs": [
    {
     "data": {
      "text/plain": [
       "numpy.ndarray"
      ]
     },
     "execution_count": 15,
     "metadata": {},
     "output_type": "execute_result"
    }
   ],
   "source": [
    "type(X_train)"
   ]
  },
  {
   "cell_type": "code",
   "execution_count": 16,
   "id": "eaad90ea",
   "metadata": {},
   "outputs": [
    {
     "name": "stdout",
     "output_type": "stream",
     "text": [
      "(20336, 34, 334)\n"
     ]
    }
   ],
   "source": [
    "print(X_train.shape)  # (n_samples, n_channels, n_timestamps)"
   ]
  },
  {
   "cell_type": "code",
   "execution_count": 17,
   "id": "e07d3589",
   "metadata": {},
   "outputs": [
    {
     "name": "stdout",
     "output_type": "stream",
     "text": [
      "[6780404 6780692 6727748 6709843 6791042 6782531 6752906 6726447 6739737\n",
      " 6382306 6792224 6680069 6786194 6695568 6728607 6063198 6699166 6722403\n",
      " 6765081 6082867 6730743 6097088 6753918 6722936 6752328 6740725 6706388\n",
      " 6079267 6122210 6753064 6525323 6791259 6732876 6701609]\n"
     ]
    }
   ],
   "source": [
    "# For each feature count the number of NaN values\n",
    "missing_counts = np.isnan(X_train).sum(axis=(0,2))\n",
    "print(missing_counts)"
   ]
  },
  {
   "cell_type": "code",
   "execution_count": 18,
   "id": "4f4a438c",
   "metadata": {},
   "outputs": [
    {
     "name": "stdout",
     "output_type": "stream",
     "text": [
      "[ 99.82597747  99.83021761  99.05073802  98.78712775  99.98259775\n",
      "  99.85729269  99.42113217  99.03158376  99.22724869  93.9648928\n",
      " 100.          98.34877354  99.91122201  98.57696095  99.06338484\n",
      "  89.26675563  98.62993329  98.97204509  99.60038126  89.55633678\n",
      "  99.09483256  89.76570855  99.43603156  98.9798923   99.41262243\n",
      "  99.24179473  98.73626076  89.50333499  90.13557268  99.42345835\n",
      "  96.07049179  99.98579258  99.12623612  98.66590089]\n"
     ]
    }
   ],
   "source": [
    "# Compute the percentage of missing values for each feature\n",
    "missing_percentage = (missing_counts / (X_train.shape[0] * X_train.shape[2])) * 100\n",
    "print(missing_percentage)"
   ]
  },
  {
   "cell_type": "code",
   "execution_count": 19,
   "id": "b355622e",
   "metadata": {},
   "outputs": [
    {
     "name": "stdout",
     "output_type": "stream",
     "text": [
      "(20336, 15, 334)\n",
      "(19998, 15, 334)\n"
     ]
    }
   ],
   "source": [
    "# drop channels with more than 99% of missing values\n",
    "threshold = 99\n",
    "mask = missing_percentage < threshold\n",
    "X_train_masked = X_train[:, mask, :]\n",
    "X_test_masked = X_test[:, mask, :]\n",
    "\n",
    "# check the shape of the masked data\n",
    "print(X_train_masked.shape)  # (n_samples, n_channels, n_timestamps)\n",
    "# check the shape of the masked data\n",
    "print(X_test_masked.shape)  # (n_samples, n_channels, n_timestamps)"
   ]
  },
  {
   "cell_type": "code",
   "execution_count": null,
   "id": "d7ded4e0",
   "metadata": {},
   "outputs": [],
   "source": [
    "from sktime.transformations.series.impute import Imputer\n",
    "# replace missing values\n",
    "imputer = Imputer(method=\"drift\")\n",
    "X_train_imputed = imputer.fit_transform(X_train_masked)\n",
    "X_test_imputed = imputer.transform(X_test_masked)"
   ]
  },
  {
   "cell_type": "code",
   "execution_count": null,
   "id": "af7889c4",
   "metadata": {},
   "outputs": [],
   "source": [
    "# check if there are still missing values\n",
    "np.isnan(X_train_imputed).ravel().sum(), np.isnan(X_test_imputed).ravel().sum()"
   ]
  },
  {
   "cell_type": "code",
   "execution_count": 62,
   "id": "d213c464",
   "metadata": {},
   "outputs": [
    {
     "data": {
      "image/png": "[encoded data removed]",
      "text/plain": [
       "<Figure size 1200x600 with 1 Axes>"
      ]
     },
     "metadata": {},
     "output_type": "display_data"
    }
   ],
   "source": [
    "import numpy as np\n",
    "import matplotlib.pyplot as plt\n",
    "\n",
    "# Choose a sample index and channel(s)\n",
    "sample_idx = 3         # pick one sample\n",
    "channels_to_plot = np.arange(X_train.shape[1])\n",
    "\n",
    "# Get the time axis (assuming uniform sampling)\n",
    "time = np.arange(X_train.shape[-1])\n",
    "\n",
    "# Plot each selected channel\n",
    "plt.figure(figsize=(12, 6))\n",
    "for ch in channels_to_plot:\n",
    "    plt.plot(time, X_train[sample_idx, ch], label=f'Channel {ch}')\n",
    "\n",
    "plt.xlabel('Timestamps')\n",
    "plt.ylabel('Signal')\n",
    "plt.title(f'Time Series for Sample {sample_idx}')\n",
    "plt.grid(True)\n",
    "plt.tight_layout()\n",
    "plt.show()\n"
   ]
  },
  {
   "cell_type": "code",
   "execution_count": 31,
   "id": "27c77aca",
   "metadata": {},
   "outputs": [
    {
     "data": {
      "text/plain": [
       "(array([0., 1.], dtype=float32), array([18546,  1790]))"
      ]
     },
     "execution_count": 31,
     "metadata": {},
     "output_type": "execute_result"
    }
   ],
   "source": [
    "np.unique(y_train, return_counts=True)"
   ]
  },
  {
   "cell_type": "code",
   "execution_count": 48,
   "id": "c292cf29",
   "metadata": {},
   "outputs": [
    {
     "data": {
      "text/plain": [
       "array([0, 1])"
      ]
     },
     "execution_count": 48,
     "metadata": {},
     "output_type": "execute_result"
    }
   ],
   "source": [
    "from sklearn.preprocessing import LabelEncoder\n",
    "# Encode the labels\n",
    "le = LabelEncoder()\n",
    "y_train = le.fit_transform(y_train)\n",
    "np.unique(y_train)\n"
   ]
  },
  {
   "cell_type": "markdown",
   "id": "d8a4159cb6b85acb",
   "metadata": {},
   "source": [
    "## Preparing a submission"
   ]
  },
  {
   "cell_type": "code",
   "execution_count": 19,
   "id": "218ce81007579373",
   "metadata": {
    "ExecuteTime": {
     "end_time": "2025-04-01T22:21:56.731770Z",
     "start_time": "2025-04-01T22:21:56.728644Z"
    },
    "execution": {
     "iopub.execute_input": "2025-04-02T21:57:04.724577Z",
     "iopub.status.busy": "2025-04-02T21:57:04.724253Z",
     "iopub.status.idle": "2025-04-02T21:57:04.741463Z",
     "shell.execute_reply": "2025-04-02T21:57:04.740287Z",
     "shell.execute_reply.started": "2025-04-02T21:57:04.724548Z"
    },
    "trusted": true
   },
   "outputs": [],
   "source": [
    "import pandas as pd\n",
    "def prepare_submission(ids, pred):\n",
    "    submission = pd.DataFrame({\"ID\": ids, \"TARGET\": pred})\n",
    "    return submission"
   ]
  },
  {
   "cell_type": "code",
   "execution_count": 20,
   "id": "80759a8b876f1d2c",
   "metadata": {
    "ExecuteTime": {
     "end_time": "2025-04-01T22:26:28.164563Z",
     "start_time": "2025-04-01T22:26:28.162349Z"
    },
    "execution": {
     "iopub.execute_input": "2025-04-02T21:57:04.743085Z",
     "iopub.status.busy": "2025-04-02T21:57:04.742778Z",
     "iopub.status.idle": "2025-04-02T21:57:07.146022Z",
     "shell.execute_reply": "2025-04-02T21:57:07.145004Z",
     "shell.execute_reply.started": "2025-04-02T21:57:04.743058Z"
    },
    "trusted": true
   },
   "outputs": [],
   "source": [
    "from sktime.classification.dummy import DummyClassifier"
   ]
  },
  {
   "cell_type": "code",
   "execution_count": 21,
   "id": "9f1f2d118dd76b97",
   "metadata": {
    "ExecuteTime": {
     "end_time": "2025-04-01T22:19:20.910099Z",
     "start_time": "2025-04-01T22:19:20.906855Z"
    },
    "execution": {
     "iopub.execute_input": "2025-04-02T21:57:07.147606Z",
     "iopub.status.busy": "2025-04-02T21:57:07.146975Z",
     "iopub.status.idle": "2025-04-02T21:57:07.152570Z",
     "shell.execute_reply": "2025-04-02T21:57:07.151074Z",
     "shell.execute_reply.started": "2025-04-02T21:57:07.147577Z"
    },
    "trusted": true
   },
   "outputs": [],
   "source": [
    "clf = DummyClassifier()"
   ]
  },
  {
   "cell_type": "code",
   "execution_count": 22,
   "id": "f98e8d2147169222",
   "metadata": {
    "ExecuteTime": {
     "end_time": "2025-04-01T22:19:39.978936Z",
     "start_time": "2025-04-01T22:19:25.366698Z"
    },
    "execution": {
     "iopub.execute_input": "2025-04-02T21:57:07.154244Z",
     "iopub.status.busy": "2025-04-02T21:57:07.153732Z",
     "iopub.status.idle": "2025-04-02T21:57:49.872847Z",
     "shell.execute_reply": "2025-04-02T21:57:49.871670Z",
     "shell.execute_reply.started": "2025-04-02T21:57:07.154202Z"
    },
    "trusted": true
   },
   "outputs": [
    {
     "name": "stdout",
     "output_type": "stream",
     "text": [
      "CPU times: user 24.7 s, sys: 572 ms, total: 25.3 s\n",
      "Wall time: 25.5 s\n"
     ]
    },
    {
     "data": {
      "text/html": [
       "<style>#sk-54150175-2035-4241-8687-1997ac08eb05 {\n",
       "    /* Definition of color scheme common for light and dark mode */\n",
       "    --sklearn-color-text: black;\n",
       "    --sklearn-color-line: gray;\n",
       "    /* Definition of color scheme for objects */\n",
       "    --sklearn-color-level-0: #fff5e6;\n",
       "    --sklearn-color-level-1: #f6e4d2;\n",
       "    --sklearn-color-level-2: #ffe0b3;\n",
       "    --sklearn-color-level-3: chocolate;\n",
       "\n",
       "    /* Specific color for light theme */\n",
       "    --sklearn-color-text-on-default-background: var(--theme-code-foreground, var(--jp-content-font-color1, black));\n",
       "    --sklearn-color-background: var(--theme-background, var(--jp-layout-color0, white));\n",
       "    --sklearn-color-border-box: var(--theme-code-foreground, var(--jp-content-font-color1, black));\n",
       "    --sklearn-color-icon: #696969;\n",
       "\n",
       "    @media (prefers-color-scheme: dark) {\n",
       "      /* Redefinition of color scheme for dark theme */\n",
       "      --sklearn-color-text-on-default-background: var(--theme-code-foreground, var(--jp-content-font-color1, white));\n",
       "      --sklearn-color-background: var(--theme-background, var(--jp-layout-color0, #111));\n",
       "      --sklearn-color-border-box: var(--theme-code-foreground, var(--jp-content-font-color1, white));\n",
       "      --sklearn-color-icon: #878787;\n",
       "    }\n",
       "  }\n",
       "\n",
       "  #sk-54150175-2035-4241-8687-1997ac08eb05 {\n",
       "    color: var(--sklearn-color-text);\n",
       "  }\n",
       "\n",
       "  #sk-54150175-2035-4241-8687-1997ac08eb05 pre {\n",
       "    padding: 0;\n",
       "  }\n",
       "\n",
       "  #sk-54150175-2035-4241-8687-1997ac08eb05 input.sk-hidden--visually {\n",
       "    border: 0;\n",
       "    clip: rect(1px 1px 1px 1px);\n",
       "    clip: rect(1px, 1px, 1px, 1px);\n",
       "    height: 1px;\n",
       "    margin: -1px;\n",
       "    overflow: hidden;\n",
       "    padding: 0;\n",
       "    position: absolute;\n",
       "    width: 1px;\n",
       "  }\n",
       "\n",
       "  #sk-54150175-2035-4241-8687-1997ac08eb05 div.sk-dashed-wrapped {\n",
       "    border: 1px dashed var(--sklearn-color-line);\n",
       "    margin: 0 0.4em 0.5em 0.4em;\n",
       "    box-sizing: border-box;\n",
       "    padding-bottom: 0.4em;\n",
       "    background-color: var(--sklearn-color-background);\n",
       "  }\n",
       "\n",
       "  #sk-54150175-2035-4241-8687-1997ac08eb05 div.sk-container {\n",
       "    /* jupyter's `normalize.less` sets `[hidden] { display: none; }`\n",
       "       but bootstrap.min.css set `[hidden] { display: none !important; }`\n",
       "       so we also need the `!important` here to be able to override the\n",
       "       default hidden behavior on the sphinx rendered scikit-learn.org.\n",
       "       See: https://github.com/scikit-learn/scikit-learn/issues/21755 */\n",
       "    display: inline-block !important;\n",
       "    position: relative;\n",
       "  }\n",
       "\n",
       "  #sk-54150175-2035-4241-8687-1997ac08eb05 div.sk-text-repr-fallback {\n",
       "    display: none;\n",
       "  }\n",
       "\n",
       "  div.sk-parallel-item,\n",
       "  div.sk-serial,\n",
       "  div.sk-item {\n",
       "    /* draw centered vertical line to link estimators */\n",
       "    background-image: linear-gradient(var(--sklearn-color-text-on-default-background), var(--sklearn-color-text-on-default-background));\n",
       "    background-size: 2px 100%;\n",
       "    background-repeat: no-repeat;\n",
       "    background-position: center center;\n",
       "  }\n",
       "\n",
       "  /* Parallel-specific style estimator block */\n",
       "\n",
       "  #sk-54150175-2035-4241-8687-1997ac08eb05 div.sk-parallel-item::after {\n",
       "    content: \"\";\n",
       "    width: 100%;\n",
       "    border-bottom: 2px solid var(--sklearn-color-text-on-default-background);\n",
       "    flex-grow: 1;\n",
       "  }\n",
       "\n",
       "  #sk-54150175-2035-4241-8687-1997ac08eb05 div.sk-parallel {\n",
       "    display: flex;\n",
       "    align-items: stretch;\n",
       "    justify-content: center;\n",
       "    background-color: var(--sklearn-color-background);\n",
       "    position: relative;\n",
       "  }\n",
       "\n",
       "  #sk-54150175-2035-4241-8687-1997ac08eb05 div.sk-parallel-item {\n",
       "    display: flex;\n",
       "    flex-direction: column;\n",
       "  }\n",
       "\n",
       "  #sk-54150175-2035-4241-8687-1997ac08eb05 div.sk-parallel-item:first-child::after {\n",
       "    align-self: flex-end;\n",
       "    width: 50%;\n",
       "  }\n",
       "\n",
       "  #sk-54150175-2035-4241-8687-1997ac08eb05 div.sk-parallel-item:last-child::after {\n",
       "    align-self: flex-start;\n",
       "    width: 50%;\n",
       "  }\n",
       "\n",
       "  #sk-54150175-2035-4241-8687-1997ac08eb05 div.sk-parallel-item:only-child::after {\n",
       "    width: 0;\n",
       "  }\n",
       "\n",
       "  /* Serial-specific style estimator block */\n",
       "\n",
       "  #sk-54150175-2035-4241-8687-1997ac08eb05 div.sk-serial {\n",
       "    display: flex;\n",
       "    flex-direction: column;\n",
       "    align-items: center;\n",
       "    background-color: var(--sklearn-color-background);\n",
       "    padding-right: 1em;\n",
       "    padding-left: 1em;\n",
       "  }\n",
       "\n",
       "\n",
       "  /* Toggleable style: style used for estimator/Pipeline/ColumnTransformer box that is\n",
       "  clickable and can be expanded/collapsed.\n",
       "  - Pipeline and ColumnTransformer use this feature and define the default style\n",
       "  - Estimators will overwrite some part of the style using the `sk-estimator` class\n",
       "  */\n",
       "\n",
       "  /* Pipeline and ColumnTransformer style (default) */\n",
       "\n",
       "  #sk-54150175-2035-4241-8687-1997ac08eb05 div.sk-toggleable {\n",
       "    /* Default theme specific background. It is overwritten whether we have a\n",
       "    specific estimator or a Pipeline/ColumnTransformer */\n",
       "    background-color: var(--sklearn-color-background);\n",
       "  }\n",
       "\n",
       "  /* Toggleable label */\n",
       "  #sk-54150175-2035-4241-8687-1997ac08eb05 label.sk-toggleable__label {\n",
       "    cursor: pointer;\n",
       "    display: block;\n",
       "    width: 100%;\n",
       "    margin-bottom: 0;\n",
       "    padding: 0.5em;\n",
       "    box-sizing: border-box;\n",
       "    text-align: center;\n",
       "  }\n",
       "\n",
       "  #sk-54150175-2035-4241-8687-1997ac08eb05 label.sk-toggleable__label-arrow:before {\n",
       "    /* Arrow on the left of the label */\n",
       "    content: \"▸\";\n",
       "    float: left;\n",
       "    margin-right: 0.25em;\n",
       "    color: var(--sklearn-color-icon);\n",
       "  }\n",
       "\n",
       "  #sk-54150175-2035-4241-8687-1997ac08eb05 label.sk-toggleable__label-arrow:hover:before {\n",
       "    color: var(--sklearn-color-text);\n",
       "  }\n",
       "\n",
       "  /* Toggleable content - dropdown */\n",
       "\n",
       "  #sk-54150175-2035-4241-8687-1997ac08eb05 div.sk-toggleable__content {\n",
       "    max-height: 0;\n",
       "    max-width: 0;\n",
       "    overflow: hidden;\n",
       "    text-align: left;\n",
       "    background-color: var(--sklearn-color-level-0);\n",
       "  }\n",
       "\n",
       "  #sk-54150175-2035-4241-8687-1997ac08eb05 div.sk-toggleable__content pre {\n",
       "    margin: 0.2em;\n",
       "    border-radius: 0.25em;\n",
       "    color: var(--sklearn-color-text);\n",
       "    background-color: var(--sklearn-color-level-0);\n",
       "  }\n",
       "\n",
       "  #sk-54150175-2035-4241-8687-1997ac08eb05 input.sk-toggleable__control:checked~div.sk-toggleable__content {\n",
       "    /* Expand drop-down */\n",
       "    max-height: 200px;\n",
       "    max-width: 100%;\n",
       "    overflow: auto;\n",
       "  }\n",
       "\n",
       "  #sk-54150175-2035-4241-8687-1997ac08eb05 input.sk-toggleable__control:checked~label.sk-toggleable__label-arrow:before {\n",
       "    content: \"▾\";\n",
       "  }\n",
       "\n",
       "  /* Pipeline/ColumnTransformer-specific style */\n",
       "\n",
       "  #sk-54150175-2035-4241-8687-1997ac08eb05 div.sk-label input.sk-toggleable__control:checked~label.sk-toggleable__label {\n",
       "    color: var(--sklearn-color-text);\n",
       "    background-color: var(--sklearn-color-level-2);\n",
       "  }\n",
       "\n",
       "  /* Estimator-specific style */\n",
       "\n",
       "  /* Colorize estimator box */\n",
       "  #sk-54150175-2035-4241-8687-1997ac08eb05 div.sk-estimator input.sk-toggleable__control:checked~label.sk-toggleable__label {\n",
       "    /* unfitted */\n",
       "    background-color: var(--sklearn-color-level-2);\n",
       "  }\n",
       "\n",
       "  #sk-54150175-2035-4241-8687-1997ac08eb05 div.sk-label label.sk-toggleable__label,\n",
       "  #sk-54150175-2035-4241-8687-1997ac08eb05 div.sk-label label {\n",
       "    /* The background is the default theme color */\n",
       "    color: var(--sklearn-color-text-on-default-background);\n",
       "  }\n",
       "\n",
       "  /* On hover, darken the color of the background */\n",
       "  #sk-54150175-2035-4241-8687-1997ac08eb05 div.sk-label:hover label.sk-toggleable__label {\n",
       "    color: var(--sklearn-color-text);\n",
       "    background-color: var(--sklearn-color-level-2);\n",
       "  }\n",
       "\n",
       "  /* Estimator label */\n",
       "\n",
       "  #sk-54150175-2035-4241-8687-1997ac08eb05 div.sk-label label {\n",
       "    font-family: monospace;\n",
       "    font-weight: bold;\n",
       "    display: inline-block;\n",
       "    line-height: 1.2em;\n",
       "  }\n",
       "\n",
       "  #sk-54150175-2035-4241-8687-1997ac08eb05 div.sk-label-container {\n",
       "    text-align: center;\n",
       "  }\n",
       "\n",
       "  /* Estimator-specific */\n",
       "  #sk-54150175-2035-4241-8687-1997ac08eb05 div.sk-estimator {\n",
       "    font-family: monospace;\n",
       "    border: 1px dotted var(--sklearn-color-border-box);\n",
       "    border-radius: 0.25em;\n",
       "    box-sizing: border-box;\n",
       "    margin-bottom: 0.5em;\n",
       "    background-color: var(--sklearn-color-level-0);\n",
       "  }\n",
       "\n",
       "  /* on hover */\n",
       "  #sk-54150175-2035-4241-8687-1997ac08eb05 div.sk-estimator:hover {\n",
       "    background-color: var(--sklearn-color-level-2);\n",
       "  }\n",
       "\n",
       "  /* Specification for estimator info */\n",
       "\n",
       "  .sk-estimator-doc-link,\n",
       "  a:link.sk-estimator-doc-link,\n",
       "  a:visited.sk-estimator-doc-link {\n",
       "    float: right;\n",
       "    font-size: smaller;\n",
       "    line-height: 1em;\n",
       "    font-family: monospace;\n",
       "    background-color: var(--sklearn-color-background);\n",
       "    border-radius: 1em;\n",
       "    height: 1em;\n",
       "    width: 1em;\n",
       "    text-decoration: none !important;\n",
       "    margin-left: 1ex;\n",
       "    border: var(--sklearn-color-level-1) 1pt solid;\n",
       "    color: var(--sklearn-color-level-1);\n",
       "  }\n",
       "\n",
       "  /* On hover */\n",
       "  div.sk-estimator:hover .sk-estimator-doc-link:hover,\n",
       "  .sk-estimator-doc-link:hover,\n",
       "  div.sk-label-container:hover .sk-estimator-doc-link:hover,\n",
       "  .sk-estimator-doc-link:hover {\n",
       "    background-color: var(--sklearn-color-level-3);\n",
       "    color: var(--sklearn-color-background);\n",
       "    text-decoration: none;\n",
       "  }\n",
       "\n",
       "  /* Span, style for the box shown on hovering the info icon */\n",
       "  .sk-estimator-doc-link span {\n",
       "    display: none;\n",
       "    z-index: 9999;\n",
       "    position: relative;\n",
       "    font-weight: normal;\n",
       "    right: .2ex;\n",
       "    padding: .5ex;\n",
       "    margin: .5ex;\n",
       "    width: min-content;\n",
       "    min-width: 20ex;\n",
       "    max-width: 50ex;\n",
       "    color: var(--sklearn-color-text);\n",
       "    box-shadow: 2pt 2pt 4pt #999;\n",
       "    background: var(--sklearn-color-level-0);\n",
       "    border: .5pt solid var(--sklearn-color-level-3);\n",
       "  }\n",
       "\n",
       "  .sk-estimator-doc-link:hover span {\n",
       "    display: block;\n",
       "  }\n",
       "\n",
       "  /* \"?\"-specific style due to the `<a>` HTML tag */\n",
       "\n",
       "  #sk-54150175-2035-4241-8687-1997ac08eb05 a.estimator_doc_link {\n",
       "    float: right;\n",
       "    font-size: 1rem;\n",
       "    line-height: 1em;\n",
       "    font-family: monospace;\n",
       "    background-color: var(--sklearn-color-background);\n",
       "    border-radius: 1rem;\n",
       "    height: 1rem;\n",
       "    width: 1rem;\n",
       "    text-decoration: none;\n",
       "    color: var(--sklearn-color-level-1);\n",
       "    border: var(--sklearn-color-level-1) 1pt solid;\n",
       "  }\n",
       "\n",
       "  /* On hover */\n",
       "  #sk-54150175-2035-4241-8687-1997ac08eb05 a.estimator_doc_link:hover {\n",
       "    background-color: var(--sklearn-color-level-3);\n",
       "    color: var(--sklearn-color-background);\n",
       "    text-decoration: none;\n",
       "  }\n",
       "</style><div id='sk-54150175-2035-4241-8687-1997ac08eb05' class=\"sk-top-container\"><div class=\"sk-text-repr-fallback\"><pre>DummyClassifier()</pre><b>Please rerun this cell to show the HTML repr or trust the notebook.</b></div><div class=\"sk-container\" hidden><div class='sk-item'><div class=\"sk-estimator sk-toggleable\"><input class=\"sk-toggleable__control sk-hidden--visually\" id=UUID('3e7c2398-3afb-4aa4-8a5d-b6c3dd36de2f') type=\"checkbox\" checked><label for=UUID('3e7c2398-3afb-4aa4-8a5d-b6c3dd36de2f') class='sk-toggleable__label sk-toggleable__label-arrow'>DummyClassifier<a class=\"sk-estimator-doc-link\" rel=\"noreferrer\" target=\"_blank\" href=\"https://www.sktime.net/en/v0.36.0/api_reference/auto_generated/sktime.classification.dummy.DummyClassifier.html\">?<span>Documentation for DummyClassifier</span></a></label><div class=\"sk-toggleable__content\"><pre>DummyClassifier()</pre></div></div></div></div></div>"
      ],
      "text/plain": [
       "DummyClassifier()"
      ]
     },
     "execution_count": 22,
     "metadata": {},
     "output_type": "execute_result"
    }
   ],
   "source": [
    "%%time\n",
    "clf.fit(X_train, y_train)"
   ]
  },
  {
   "cell_type": "code",
   "execution_count": 23,
   "id": "62f36f3ac9eb0bd3",
   "metadata": {
    "ExecuteTime": {
     "end_time": "2025-04-01T22:19:54.399611Z",
     "start_time": "2025-04-01T22:19:41.353446Z"
    },
    "execution": {
     "iopub.execute_input": "2025-04-02T21:57:49.874094Z",
     "iopub.status.busy": "2025-04-02T21:57:49.873770Z",
     "iopub.status.idle": "2025-04-02T21:58:31.166235Z",
     "shell.execute_reply": "2025-04-02T21:58:31.165269Z",
     "shell.execute_reply.started": "2025-04-02T21:57:49.874066Z"
    },
    "trusted": true
   },
   "outputs": [
    {
     "name": "stdout",
     "output_type": "stream",
     "text": [
      "CPU times: user 25.9 s, sys: 553 ms, total: 26.4 s\n",
      "Wall time: 26.5 s\n"
     ]
    }
   ],
   "source": [
    "%%time\n",
    "y_pred = clf.predict(X_test)"
   ]
  },
  {
   "cell_type": "code",
   "execution_count": 27,
   "id": "807692f7ffc3f67a",
   "metadata": {
    "ExecuteTime": {
     "end_time": "2025-04-01T22:21:58.309831Z",
     "start_time": "2025-04-01T22:21:58.295529Z"
    },
    "execution": {
     "iopub.execute_input": "2025-04-02T21:58:31.167807Z",
     "iopub.status.busy": "2025-04-02T21:58:31.167538Z",
     "iopub.status.idle": "2025-04-02T21:58:31.239084Z",
     "shell.execute_reply": "2025-04-02T21:58:31.238166Z",
     "shell.execute_reply.started": "2025-04-02T21:58:31.167786Z"
    },
    "trusted": true
   },
   "outputs": [],
   "source": [
    "submission = prepare_submission(test_id, y_pred)\n",
    "submission.to_csv(\"submission_GL_dummy.csv\", index=False)"
   ]
  },
  {
   "cell_type": "code",
   "execution_count": 28,
   "id": "771ec73c-9786-46f7-8838-8b377704992d",
   "metadata": {
    "trusted": true
   },
   "outputs": [
    {
     "data": {
      "text/html": [
       "<div>\n",
       "<style scoped>\n",
       "    .dataframe tbody tr th:only-of-type {\n",
       "        vertical-align: middle;\n",
       "    }\n",
       "\n",
       "    .dataframe tbody tr th {\n",
       "        vertical-align: top;\n",
       "    }\n",
       "\n",
       "    .dataframe thead th {\n",
       "        text-align: right;\n",
       "    }\n",
       "</style>\n",
       "<table border=\"1\" class=\"dataframe\">\n",
       "  <thead>\n",
       "    <tr style=\"text-align: right;\">\n",
       "      <th></th>\n",
       "      <th>ID</th>\n",
       "      <th>TARGET</th>\n",
       "    </tr>\n",
       "  </thead>\n",
       "  <tbody>\n",
       "    <tr>\n",
       "      <th>0</th>\n",
       "      <td>0</td>\n",
       "      <td>0.0</td>\n",
       "    </tr>\n",
       "    <tr>\n",
       "      <th>1</th>\n",
       "      <td>2</td>\n",
       "      <td>0.0</td>\n",
       "    </tr>\n",
       "    <tr>\n",
       "      <th>2</th>\n",
       "      <td>5</td>\n",
       "      <td>0.0</td>\n",
       "    </tr>\n",
       "    <tr>\n",
       "      <th>3</th>\n",
       "      <td>7</td>\n",
       "      <td>0.0</td>\n",
       "    </tr>\n",
       "    <tr>\n",
       "      <th>4</th>\n",
       "      <td>8</td>\n",
       "      <td>0.0</td>\n",
       "    </tr>\n",
       "  </tbody>\n",
       "</table>\n",
       "</div>"
      ],
      "text/plain": [
       "   ID  TARGET\n",
       "0   0     0.0\n",
       "1   2     0.0\n",
       "2   5     0.0\n",
       "3   7     0.0\n",
       "4   8     0.0"
      ]
     },
     "execution_count": 28,
     "metadata": {},
     "output_type": "execute_result"
    }
   ],
   "source": [
    "submission.head()"
   ]
  },
  {
   "cell_type": "code",
   "execution_count": null,
   "id": "94b74a69",
   "metadata": {},
   "outputs": [],
   "source": []
  }
 ],
 "metadata": {
  "kaggle": {
   "accelerator": "none",
   "dataSources": [
    {
     "databundleVersionId": 11658295,
     "sourceId": 97852,
     "sourceType": "competition"
    }
   ],
   "dockerImageVersionId": 30918,
   "isGpuEnabled": false,
   "isInternetEnabled": true,
   "language": "python",
   "sourceType": "notebook"
  },
  "kernelspec": {
   "display_name": "pmts_env",
   "language": "python",
   "name": "python3"
  },
  "language_info": {
   "codemirror_mode": {
    "name": "ipython",
    "version": 3
   },
   "file_extension": ".py",
   "mimetype": "text/x-python",
   "name": "python",
   "nbconvert_exporter": "python",
   "pygments_lexer": "ipython3",
   "version": "3.12.3"
  }
 },
 "nbformat": 4,
 "nbformat_minor": 5
}
