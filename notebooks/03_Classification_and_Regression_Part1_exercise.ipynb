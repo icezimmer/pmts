{
 "cells": [
  {
   "metadata": {},
   "cell_type": "markdown",
   "source": "# Classification and Regression, Part 1 - Exercise",
   "id": "7d685c48e8dd2865"
  },
  {
   "metadata": {},
   "cell_type": "code",
   "source": [
    "import pandas as pd\n",
    "import numpy as np\n",
    "import matplotlib.pyplot as plt\n",
    "import seaborn as sns\n",
    "import matplotlib.pyplot as plt"
   ],
   "id": "c4b6fc9bc2e0e32c",
   "outputs": [],
   "execution_count": null
  },
  {
   "metadata": {},
   "cell_type": "markdown",
   "source": "# Exercise 1. Univariate Classification",
   "id": "8f571c169d020964"
  },
  {
   "metadata": {},
   "cell_type": "markdown",
   "source": [
    "---\n",
    "\n",
    "### About the data\n",
    "\n",
    "---\n",
    "The dataset you will use for today exercise is a modified version of Computers https://www.timeseriesclassification.com/description.php?Dataset=Computers\n",
    "\n",
    "These problems were taken from data recorded as part of government sponsored study called Powering the Nation. The intention was to collect behavioural data about how consumers use electricity within the home to help reduce the UK's carbon footprint. The data contains readings from 251 households, sampled in two-minute intervals over a month. Each series is length 720 (24 hours of readings taken every 2 minutes). Classes are Desktop and Laptop.\n",
    "\n"
   ],
   "id": "4e05637c8b858322"
  },
  {
   "metadata": {},
   "cell_type": "markdown",
   "source": [
    "---\n",
    "\n",
    "### Read the data\n",
    "\n",
    "Load the numpy files X_train_computers.npy, X_test_computers.npy, y_train_computers.npy, y_test_computers.npy\n"
   ],
   "id": "711d8be6d03d3b7d"
  },
  {
   "metadata": {},
   "cell_type": "code",
   "source": "",
   "id": "e41cbff4f852ffc7",
   "outputs": [],
   "execution_count": null
  },
  {
   "metadata": {},
   "cell_type": "markdown",
   "source": [
    "---\n",
    "\n",
    "## Data Understanding/Preparation\n",
    "\n",
    "Try to understand the data first... Plot some of the data, what do you see? Ask yourself a few questions:\n",
    "- How many classes are there? Are the classes balanced?\n",
    "- Are there any missing values?\n",
    "- Are there outlier values? (hint: make a boxplot of all the data)"
   ],
   "id": "ea767172e639493d"
  },
  {
   "metadata": {},
   "cell_type": "markdown",
   "source": "---",
   "id": "b2b3801066161002"
  },
  {
   "metadata": {},
   "cell_type": "code",
   "source": "",
   "id": "f84c6ba26c45d61b",
   "outputs": [],
   "execution_count": null
  },
  {
   "metadata": {},
   "cell_type": "markdown",
   "source": "#### How many classes are there? Are the classes balanced?",
   "id": "cbea91c252128099"
  },
  {
   "metadata": {},
   "cell_type": "code",
   "source": "",
   "id": "693c84e68313068d",
   "outputs": [],
   "execution_count": null
  },
  {
   "metadata": {},
   "cell_type": "markdown",
   "source": "#### Are there any missing values?",
   "id": "5f4ff2085e954496"
  },
  {
   "metadata": {},
   "cell_type": "code",
   "source": "",
   "id": "cc9402431238a76a",
   "outputs": [],
   "execution_count": null
  },
  {
   "metadata": {},
   "cell_type": "markdown",
   "source": "#### Are there any outlier values?",
   "id": "2160e2bc2613ea71"
  },
  {
   "metadata": {},
   "cell_type": "code",
   "source": "",
   "id": "99de40d5bde75ce",
   "outputs": [],
   "execution_count": null
  },
  {
   "metadata": {},
   "cell_type": "markdown",
   "source": [
    "---\n",
    "\n",
    "#### Deal with the problems you found in the previous step. E.g., remove missing values, remove outliers, etc."
   ],
   "id": "5febf4c5ff9e85e1"
  },
  {
   "metadata": {},
   "cell_type": "code",
   "source": "from sktime.transformations.series.impute import Imputer",
   "id": "39776b60e836dcf1",
   "outputs": [],
   "execution_count": null
  },
  {
   "metadata": {},
   "cell_type": "code",
   "source": "",
   "id": "4d4a2d84c4b3b0d",
   "outputs": [],
   "execution_count": null
  },
  {
   "metadata": {},
   "cell_type": "markdown",
   "source": [
    "---\n",
    "\n",
    "## Classification\n",
    "After you removed the main problems in the data, you can start the classification process.\n",
    "Does the dataset need further preprocessing (normalization maybe)? If so, do it. Use the LabelEncoder to transform the target variable in a numerical format.\n",
    "\n",
    "### Goal\n",
    "Your goal here is to find the best possible classification pipeline to predict the class of the computers dataset. You can use any classifier you saw in the course up to now.\n",
    "\n",
    "### Hyperparameter tuning\n",
    "Try to find the best hyperparameters for your model. You can a validation set, cross validation or a GridSearchCV or RandomizedSearchCV for this task.\n",
    "\n",
    "### Evaluation\n",
    "Don't overfit the test set! Only once you think you found the best model, test performance on the test set. Find the model that has the highest ROC AUC score."
   ],
   "id": "ea0f1801dcdc0fa4"
  },
  {
   "metadata": {},
   "cell_type": "code",
   "source": [
    "from sklearn.model_selection import cross_val_score\n",
    "from sklearn.model_selection import GridSearchCV"
   ],
   "id": "66a116e702bf8a92",
   "outputs": [],
   "execution_count": null
  },
  {
   "metadata": {},
   "cell_type": "markdown",
   "source": "### Label Encoding",
   "id": "c448aaac56a4e756"
  },
  {
   "metadata": {},
   "cell_type": "code",
   "source": "from sklearn.preprocessing import LabelEncoder",
   "id": "4d654717595f57da",
   "outputs": [],
   "execution_count": null
  },
  {
   "metadata": {},
   "cell_type": "code",
   "source": "",
   "id": "e156fba0b3b3064d",
   "outputs": [],
   "execution_count": null
  },
  {
   "metadata": {},
   "cell_type": "markdown",
   "source": "### How does a dummy classifier perform?",
   "id": "75cc90312d5d88fd"
  },
  {
   "metadata": {},
   "cell_type": "code",
   "source": "from sktime.classification.dummy import DummyClassifier",
   "id": "371649203f0faa52",
   "outputs": [],
   "execution_count": null
  },
  {
   "metadata": {},
   "cell_type": "code",
   "source": "dummy = DummyClassifier()",
   "id": "fbca79d0764c770a",
   "outputs": [],
   "execution_count": null
  },
  {
   "metadata": {},
   "cell_type": "code",
   "source": "cross_val_score(dummy, X_train, y_train, cv=5, scoring=\"roc_auc\").mean()",
   "id": "a8b59ac2601aed47",
   "outputs": [],
   "execution_count": null
  },
  {
   "metadata": {},
   "cell_type": "code",
   "outputs": [],
   "execution_count": null,
   "source": "",
   "id": "5ee72ef3f09b409f"
  },
  {
   "metadata": {},
   "cell_type": "code",
   "outputs": [],
   "execution_count": null,
   "source": "",
   "id": "87c6d24679269dec"
  },
  {
   "metadata": {},
   "cell_type": "markdown",
   "source": [
    "### Evaluation\n",
    "let's train the best model on the whole training set and evaluate it on the test set"
   ],
   "id": "edc77427cc62d3dd"
  },
  {
   "metadata": {},
   "cell_type": "code",
   "source": "",
   "id": "1d6a09241f3b84cb",
   "outputs": [],
   "execution_count": null
  },
  {
   "metadata": {},
   "cell_type": "markdown",
   "source": "# Exercise 2. Multivariate Regression",
   "id": "da7773763e598dcb"
  },
  {
   "metadata": {},
   "cell_type": "markdown",
   "source": [
    "---\n",
    "\n",
    "### About the data\n",
    "\n",
    "The goal of this dataset is to predict total energy usage in kWh of a house. This dataset contains 138 time series obtained from the Appliances Energy Prediction dataset from the UCI repository. The time series has 24 dimensions. This includes temperature and humidity measurements of 9 rooms in a house, monitored with a ZigBee wireless sensor network. It also includes weather and climate data such as temperature, pressure, humidity, wind speed, visibility and dewpoint measured from Chievres airport. The data set is averaged for 10 minutes period and spanning 4.5 months."
   ],
   "id": "196d36e1f902cbad"
  },
  {
   "metadata": {},
   "cell_type": "markdown",
   "source": [
    "### Load the data\n",
    "\n",
    "Load the numpy files X_train_AppliancesEnergy.npy, X_test_AppliancesEnergy.npy, y_train_AppliancesEnergy.npy, y_test_AppliancesEnergy.npy"
   ],
   "id": "283afaeaadd22fef"
  },
  {
   "metadata": {},
   "cell_type": "code",
   "source": "",
   "id": "93ac1fe1a66adbd3",
   "outputs": [],
   "execution_count": null
  },
  {
   "metadata": {},
   "cell_type": "markdown",
   "source": [
    "## Data Understanding/Preparation\n",
    "\n",
    "similar to the previous exercise, try to understand the data first!"
   ],
   "id": "3abfff641dcdd455"
  },
  {
   "metadata": {},
   "cell_type": "code",
   "source": "",
   "id": "4931665373826e82",
   "outputs": [],
   "execution_count": null
  },
  {
   "metadata": {},
   "cell_type": "markdown",
   "source": [
    "## Regression\n",
    "After you removed the main problems in the data, you can start the regression process. Similar to the previous exercise, you can use any regressor you saw in the course up to now. Find the best model in terms of MAE. As metric use `neg_mean_absolute_error` in the cross_val_score function (higher is better)."
   ],
   "id": "7d48c49d2778030d"
  },
  {
   "metadata": {},
   "cell_type": "code",
   "source": "from sklearn.model_selection import cross_val_score",
   "id": "e89a21d04fcf536c",
   "outputs": [],
   "execution_count": null
  },
  {
   "metadata": {},
   "cell_type": "markdown",
   "source": "### Dummy Regressor",
   "id": "f25f852fcbe7c6aa"
  },
  {
   "metadata": {},
   "cell_type": "code",
   "source": "from sktime.regression.dummy import DummyRegressor",
   "id": "40e89b66ac24ef3d",
   "outputs": [],
   "execution_count": null
  },
  {
   "metadata": {},
   "cell_type": "code",
   "source": "dummy = DummyRegressor()",
   "id": "834cf60ec8a3e55a",
   "outputs": [],
   "execution_count": null
  },
  {
   "metadata": {},
   "cell_type": "code",
   "source": "cross_val_score(dummy, X_train, y_train, cv=5, scoring=\"neg_mean_absolute_error\").mean()",
   "id": "2912b0624ff5461",
   "outputs": [],
   "execution_count": null
  },
  {
   "metadata": {},
   "cell_type": "markdown",
   "source": [
    "### Evaluation\n",
    "let's train the best model on the whole training set and evaluate it on the test set"
   ],
   "id": "cb089bc7862d8cb4"
  },
  {
   "metadata": {},
   "cell_type": "code",
   "source": "",
   "id": "752f8ddb2f58c3ae",
   "outputs": [],
   "execution_count": null
  }
 ],
 "metadata": {
  "kernelspec": {
   "display_name": "Python 3",
   "language": "python",
   "name": "python3"
  },
  "language_info": {
   "codemirror_mode": {
    "name": "ipython",
    "version": 2
   },
   "file_extension": ".py",
   "mimetype": "text/x-python",
   "name": "python",
   "nbconvert_exporter": "python",
   "pygments_lexer": "ipython2",
   "version": "2.7.6"
  }
 },
 "nbformat": 4,
 "nbformat_minor": 5
}
